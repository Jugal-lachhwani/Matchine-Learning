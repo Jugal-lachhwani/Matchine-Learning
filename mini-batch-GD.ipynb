{
 "cells": [
  {
   "cell_type": "code",
   "execution_count": 2,
   "id": "86eacd83",
   "metadata": {},
   "outputs": [],
   "source": [
    "from sklearn.datasets import load_diabetes\n",
    "\n",
    "import numpy as np\n",
    "from sklearn.linear_model import LinearRegression\n",
    "from sklearn.metrics import r2_score\n",
    "from sklearn.model_selection import train_test_split\n",
    "import time"
   ]
  },
  {
   "cell_type": "code",
   "execution_count": 3,
   "id": "13b37462",
   "metadata": {},
   "outputs": [],
   "source": [
    "X,y = load_diabetes(return_X_y=True)"
   ]
  },
  {
   "cell_type": "code",
   "execution_count": 4,
   "id": "a556a834",
   "metadata": {},
   "outputs": [],
   "source": [
    "X_train,X_test,y_train,y_test = train_test_split(X,y,test_size=0.2,random_state=2)"
   ]
  },
  {
   "cell_type": "code",
   "execution_count": 12,
   "id": "f290996a",
   "metadata": {},
   "outputs": [],
   "source": [
    "\n",
    "class MBGDRegressor:\n",
    "    def __init__(self,batch_size = 30,lr = 0.02,epochs = 100):\n",
    "        self.lr = lr\n",
    "        self.epochs = epochs\n",
    "        self.batch_size = batch_size\n",
    "    def fit(self,X_train,y_train):\n",
    "        self.coef = np.ones(X_train.shape[1])\n",
    "        self.intercept = 0\n",
    "        for i in range(self.epochs):\n",
    "            for j in range(int(X_train.shape[0]/self.batch_size)):\n",
    "                idx = np.random.randint(0,X_train.shape[0],self.batch_size)\n",
    "                y_hat = np.dot(X_train[idx],self.coef) + self.intercept\n",
    "                loss_f_coef = -2 * np.dot(y_train[idx] - y_hat,X_train[idx])\n",
    "                loss_f_intercept =  -2 * np.mean(y_train[idx] - y_hat)\n",
    "                self.coef = self.coef - self.lr*loss_f_coef\n",
    "                self.intercept = self.intercept - self.lr * loss_f_intercept\n",
    "        print(self.intercept,self.coef)\n",
    "    def predict(self,X_test):\n",
    "        return np.dot(X_test,self.coef) + self.intercept"
   ]
  },
  {
   "cell_type": "code",
   "execution_count": 13,
   "id": "663b8361",
   "metadata": {},
   "outputs": [],
   "source": [
    "mbr = MBGDRegressor(batch_size=10)"
   ]
  },
  {
   "cell_type": "code",
   "execution_count": 14,
   "id": "753b8f86",
   "metadata": {},
   "outputs": [
    {
     "name": "stdout",
     "output_type": "stream",
     "text": [
      "151.20025297550472 [   4.34442897 -200.45807049  522.01530237  335.44071338  -46.06690748\n",
      " -120.45290113 -186.24787735   97.72183876  477.63895214   72.92293483]\n"
     ]
    }
   ],
   "source": [
    "mbr.fit(X_train,y_train)"
   ]
  },
  {
   "cell_type": "code",
   "execution_count": 15,
   "id": "ec0789c3",
   "metadata": {},
   "outputs": [],
   "source": [
    "y_pred = mbr.predict(X_test)"
   ]
  },
  {
   "cell_type": "code",
   "execution_count": 16,
   "id": "c8628dc8",
   "metadata": {},
   "outputs": [
    {
     "data": {
      "text/plain": [
       "0.45178047687204137"
      ]
     },
     "execution_count": 16,
     "metadata": {},
     "output_type": "execute_result"
    }
   ],
   "source": [
    "r2_score(y_test,y_pred)"
   ]
  },
  {
   "cell_type": "code",
   "execution_count": null,
   "id": "719c176a",
   "metadata": {},
   "outputs": [],
   "source": []
  }
 ],
 "metadata": {
  "kernelspec": {
   "display_name": "base",
   "language": "python",
   "name": "python3"
  },
  "language_info": {
   "codemirror_mode": {
    "name": "ipython",
    "version": 3
   },
   "file_extension": ".py",
   "mimetype": "text/x-python",
   "name": "python",
   "nbconvert_exporter": "python",
   "pygments_lexer": "ipython3",
   "version": "3.12.4"
  }
 },
 "nbformat": 4,
 "nbformat_minor": 5
}
